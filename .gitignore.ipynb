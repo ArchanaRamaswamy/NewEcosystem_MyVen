{
 "cells": [
  {
   "cell_type": "code",
   "execution_count": 1,
   "id": "365eb695",
   "metadata": {},
   "outputs": [
    {
     "ename": "SyntaxError",
     "evalue": "invalid syntax (Temp/ipykernel_28804/3239956539.py, line 2)",
     "output_type": "error",
     "traceback": [
      "\u001b[1;36m  File \u001b[1;32m\"C:\\Users\\archa\\AppData\\Local\\Temp/ipykernel_28804/3239956539.py\"\u001b[1;36m, line \u001b[1;32m2\u001b[0m\n\u001b[1;33m    *.pyc\u001b[0m\n\u001b[1;37m     ^\u001b[0m\n\u001b[1;31mSyntaxError\u001b[0m\u001b[1;31m:\u001b[0m invalid syntax\n"
     ]
    }
   ],
   "source": [
    "MyVenv\n",
    "*.pyc\n",
    ".env \n",
    ".DS_Store"
   ]
  },
  {
   "cell_type": "code",
   "execution_count": null,
   "id": "fa000722",
   "metadata": {},
   "outputs": [],
   "source": []
  }
 ],
 "metadata": {
  "kernelspec": {
   "display_name": "MyVenvKernel",
   "language": "python",
   "name": "myvenvkernel"
  },
  "language_info": {
   "codemirror_mode": {
    "name": "ipython",
    "version": 3
   },
   "file_extension": ".py",
   "mimetype": "text/x-python",
   "name": "python",
   "nbconvert_exporter": "python",
   "pygments_lexer": "ipython3",
   "version": "3.9.7"
  }
 },
 "nbformat": 4,
 "nbformat_minor": 5
}
